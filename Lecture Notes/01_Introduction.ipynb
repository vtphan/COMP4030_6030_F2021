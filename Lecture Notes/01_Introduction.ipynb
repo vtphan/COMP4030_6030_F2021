{
 "cells": [
  {
   "cell_type": "markdown",
   "metadata": {},
   "source": [
    "# Welcome to COMP 4030 / 6030, Spring 2021\n",
    "\n",
    "* COMP 4030 / 6030\n",
    "    * Syllabus, prerequisites\n",
    "* Zoom\n",
    "* Anaconda, Python\n",
    "* Jupyter Notebooks\n",
    "    * Blocks\n",
    "    * HTML, Markdown\n",
    "    * Python"
   ]
  },
  {
   "cell_type": "markdown",
   "metadata": {},
   "source": [
    "# Anaconda and Jupyter Notebooks\n",
    "\n",
    "Anaconda is a distribution of Python.   It has an interpreter for Python.  This means you can write and execute Python programs.  It also has many Python libraries.  It also has Jupyter Notebook, along with other tools.   We are only interested in Jupyter Notebook.\n",
    "\n",
    "This is a Jupyter Notebook."
   ]
  },
  {
   "cell_type": "markdown",
   "metadata": {},
   "source": [
    "What you are seeing on my shared screen is a Jupyter notebook.\n",
    "\n",
    "Why do we use Jupyter notebooks?\n",
    "\n",
    "In the past, programmers communciate with other people using \"comments\".   In fact, lots of documentation are in the form of \"comments\".\n",
    "\n",
    "Communicating via comments is not very nice.\n",
    "\n",
    "So, people invented this concept of a technical \"notebook\", which has both texts and code.\n",
    "\n",
    "A Jupyter notebook consists of **blocks** of regular texts and Python code.\n",
    "\n"
   ]
  },
  {
   "cell_type": "markdown",
   "metadata": {},
   "source": [
    "### More on texts and code in Jupyter notebooks\n",
    "\n",
    "Text blocks follow Markdown syntax.\n",
    "\n",
    "Code blocks follow Python syntax."
   ]
  },
  {
   "cell_type": "markdown",
   "metadata": {},
   "source": [
    "#### Text blocks and Markdown syntax\n",
    "\n",
    "You can look up for information on Markdown syntax online.\n",
    "\n",
    "Markdown is simple and easy-to-remember version of HTML.  HTML is a syntax for displaying webpages.\n",
    "\n",
    "Each Markdown syntax rule corresponds to an HTML syntax rule. Some examples of these rules are bold, italicized, lists, headings.\n",
    "\n",
    "Here is a list:\n",
    "\n",
    "* One\n",
    "* Two \n",
    "* Three\n",
    "\n",
    "To \"visualize\" a Markdown block, we have to \"execute\" it.   To see the result of a Python block, we have to \"execute\" it.\n",
    "\n",
    "**This is a bold sentence**.  *This is an italicized sentence.*\n",
    "\n",
    "In HTML, we have several heading levels: h1, h2, h3, h4, h5, ...\n",
    "\n",
    "<h1>This is a first-level heading in HTML</h1>\n",
    "\n",
    "# This is h1 in Markdown\n",
    "\n",
    "<h2>This is a second-level heading in HTML</h2>\n",
    "\n",
    "## This is h2 in Markdown\n",
    "\n"
   ]
  },
  {
   "cell_type": "markdown",
   "metadata": {},
   "source": [
    "#### One more thing about Jupyter notebooks\n",
    "\n",
    "Jupyter Notebook is actually a web application.  When you run Jupyter Notebook, you run a webapp, which serves locally.\n",
    "\n",
    "The Jupyter Notebook webapp opens pages on your default browser."
   ]
  },
  {
   "cell_type": "markdown",
   "metadata": {},
   "source": [
    "# COMP 4030/6030"
   ]
  },
  {
   "cell_type": "markdown",
   "metadata": {},
   "source": [
    "In this course, we'll learn basic and advanced programming techniques, algorithmic design techniques.\n",
    "\n",
    "We code in class. I code during lectures, and should you.\n",
    "\n",
    "Most students like coding while learning algorithms.\n",
    "\n",
    "Some students find it challenging to listen, read, code and think at the same time.\n",
    "\n",
    "While it's note perfect, coding while learning algorithms is the best way, in my experience.\n",
    "\n",
    "\n",
    "\n",
    "\n"
   ]
  },
  {
   "cell_type": "markdown",
   "metadata": {},
   "source": [
    "Some addtional approaches to teaching (from me):\n",
    "\n",
    "* When I teach (learn), I want to think outloud.\n",
    "* Many times, I start from the foundation.\n",
    "* Many times, I write code (almost) from scratch.\n"
   ]
  },
  {
   "cell_type": "markdown",
   "metadata": {},
   "source": [
    "I want to you to learn and be succesful in this course.\n",
    "\n",
    "If you need help, if you are behind, you need to catch up immediately. Reach out to me for help.  Ask questions in the lectures, and after class.\n",
    "\n",
    "Lectures are extrememly important.  You should attend lectures."
   ]
  },
  {
   "cell_type": "markdown",
   "metadata": {},
   "source": [
    "There's no required textbook for this course. There are some recommended textbooks (look at the syllabus).\n",
    "\n",
    "Because my approach to teaching Algorithms is slightly different from the traditional textbooks.  We will cover most of the same topics and techniques."
   ]
  },
  {
   "cell_type": "markdown",
   "metadata": {},
   "source": [
    "## Prerequistes for COMP 4030\n",
    "\n",
    "Formally, you need COMP 2700.   COMP 2700 requires COMP 2150.\n",
    "\n",
    "This means you should have taken COMP 1900, 2150 and 2700.\n",
    "\n",
    "You need to know how to program.  The better you are as a programmer, you'll be in a better position to take this course.\n"
   ]
  },
  {
   "cell_type": "markdown",
   "metadata": {},
   "source": [
    "# Python"
   ]
  },
  {
   "cell_type": "code",
   "execution_count": 3,
   "metadata": {},
   "outputs": [],
   "source": [
    "# This is an example of a Python program\n",
    "def hello():\n",
    "    print('hello')"
   ]
  },
  {
   "cell_type": "code",
   "execution_count": 4,
   "metadata": {},
   "outputs": [
    {
     "name": "stdout",
     "output_type": "stream",
     "text": [
      "hello\n"
     ]
    }
   ],
   "source": [
    "hello()"
   ]
  },
  {
   "cell_type": "code",
   "execution_count": null,
   "metadata": {},
   "outputs": [],
   "source": []
  }
 ],
 "metadata": {
  "kernelspec": {
   "display_name": "Python 3",
   "language": "python",
   "name": "python3"
  },
  "language_info": {
   "codemirror_mode": {
    "name": "ipython",
    "version": 3
   },
   "file_extension": ".py",
   "mimetype": "text/x-python",
   "name": "python",
   "nbconvert_exporter": "python",
   "pygments_lexer": "ipython3",
   "version": "3.8.3"
  }
 },
 "nbformat": 4,
 "nbformat_minor": 4
}
